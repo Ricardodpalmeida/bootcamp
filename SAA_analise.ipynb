{
 "cells": [
  {
   "cell_type": "markdown",
   "id": "fcc4fb66-698e-42b6-bff1-896ea9662f08",
   "metadata": {},
   "source": [
    "# Explore and Preprocess Data"
   ]
  },
  {
   "cell_type": "markdown",
   "id": "b242816c-082f-43cc-8e59-1dc1bc2ba1a7",
   "metadata": {},
   "source": [
    "## Import the necessary libraries"
   ]
  },
  {
   "cell_type": "code",
   "execution_count": null,
   "id": "5542d940",
   "metadata": {},
   "outputs": [],
   "source": [
    "import pandas as pd\n",
    "import numpy as np\n",
    "import matplotlib.pyplot as plt\n",
    "import seaborn as sns\n",
    "from sklearn.preprocessing import MinMaxScaler"
   ]
  },
  {
   "cell_type": "markdown",
   "id": "bdba5af4-f516-46f9-bda0-de767fea0095",
   "metadata": {},
   "source": [
    "## Import data"
   ]
  },
  {
   "cell_type": "markdown",
   "id": "20d116e6-a135-42e8-a561-eb83ef94956a",
   "metadata": {},
   "source": [
    "__HR_DS.csv__\n",
    "\n",
    "| Attribute | Description | \n",
    "| --- | --- |\n",
    "| Age | Age |\n",
    "| Attrition | Employee leaving the company (0=no, 1=yes) |\n",
    "| BusinessTravel | (1=No Travel, 2=Travel Frequently, 3=Travel Rarely) |\n",
    "| DailyRate | Salary Level |\n",
    "| Department | (1=HR, 2=R&D, 3=Sales) |\n",
    "| DistanceFromHome | The distance from work to home |\n",
    "| Education | Education |\n",
    "| EducationField | (1=HR, 2=Life Sciences, 3=Marketing, 4=Medical Sciences, 5=Other, 6=Technical) |\n",
    "| EmployeeCount | Employee Count |\n",
    "| EmployeeNumber | Employee Id |\n",
    "| EnvironmentSatisfaction | Satisfaction with the environment |\n",
    "| Gender | (1=Female, 2=Male) |\n",
    "| HourlyRate | Hourly Salary |\n",
    "| JobInvolvement | Job Involvement |\n",
    "| JobLevel | Level of job |\n",
    "| JobRole | (1=HC Rep, 2= HR, 3=Lab Technician, 4=Manager, 5=Managing director, 6 = Research director, | \n",
    "|         |                          7= Research Scientist, 8=Sales executive, 9=Sales Representative) |\n",
    "|JobSatisfaction | Satisfaction with the job |\n",
    "| MaritalStatus | (1=Divorced, 2=Married, 3=Single) |\n",
    "| MonthlyIncome | Monthly Salary |\n",
    "| MonthlyRate | Monthly Rate |\n",
    "| NumCompaniesWorked | Number of companies worked at |\n",
    "| Over18 | (1=Yes, 2=No) |\n",
    "| OverTime | (1=No, 2=Yes) |\n",
    "| PercentSalaryHike | Percentage increase in Salary |\n",
    "| PerformanceRating | Performance rating |\n",
    "| RelationshipSatisfaction | Relations Satisfaction |\n",
    "| StandardHours | Standard Hours |\n",
    "| StockOptionLevel | Stock Options |\n",
    "| TotalWorkingYears | Total years worked |\n",
    "| TrainingTimesLastYear | Hours spent training |\n",
    "| WorkLifeBalance | Time spent between work and outside |\n",
    "| YearsAtCompany | Total number of years at the company |\n",
    "| YearsInCurrentRole | Years in current role |\n",
    "| YearsSinceLastPromotion | Last Promotion |\n",
    "| YearsWithCurrManager | Years spent with current manager |"
   ]
  },
  {
   "cell_type": "code",
   "execution_count": null,
   "id": "9c962b69",
   "metadata": {},
   "outputs": [],
   "source": [
    "df = pd.read_csv('HR_DS.csv')\n",
    "df.head()"
   ]
  },
  {
   "cell_type": "markdown",
   "id": "8fa55da5-2559-4e45-b343-8bc125fe1f26",
   "metadata": {},
   "source": [
    "## Set index based on employee ID"
   ]
  },
  {
   "cell_type": "code",
   "execution_count": null,
   "id": "f0081983-1f37-4434-b12c-4efc6033c151",
   "metadata": {},
   "outputs": [],
   "source": [
    "df.set_index('EmployeeNumber', inplace=True)\n",
    "df.head()"
   ]
  },
  {
   "cell_type": "markdown",
   "id": "48da54d3-6cb3-4995-9afe-11d487f5084a",
   "metadata": {},
   "source": [
    "- criar um index com base no número do empregado"
   ]
  },
  {
   "cell_type": "markdown",
   "id": "96556663-f251-416d-bc0b-28ccfe0a7047",
   "metadata": {},
   "source": [
    "## Identify and remove duplicate entries"
   ]
  },
  {
   "cell_type": "code",
   "execution_count": null,
   "id": "54709407-f49e-4330-8a06-f25f41699d4b",
   "metadata": {},
   "outputs": [],
   "source": [
    "df[df.duplicated()]"
   ]
  },
  {
   "cell_type": "markdown",
   "id": "d7b6f209-85e0-4b66-92d8-d1b624a86248",
   "metadata": {},
   "source": [
    "- não existem duplicados para remover"
   ]
  },
  {
   "cell_type": "markdown",
   "id": "c18021cb-1f47-473b-a6a4-855e3fb21793",
   "metadata": {},
   "source": [
    "## Basic exloration"
   ]
  },
  {
   "cell_type": "code",
   "execution_count": null,
   "id": "86d50e6c-a67f-48ee-839b-9ad5a13e455f",
   "metadata": {},
   "outputs": [],
   "source": [
    "df.shape"
   ]
  },
  {
   "cell_type": "markdown",
   "id": "d7a49b34-22b3-4a8d-93cd-dc734c1926be",
   "metadata": {},
   "source": [
    "- o nosso dataset tem 1470 linhas e 34 colunas"
   ]
  },
  {
   "cell_type": "code",
   "execution_count": null,
   "id": "6016fcb0-988f-441a-a1d6-3f3fc3b3e4fe",
   "metadata": {},
   "outputs": [],
   "source": [
    "df.columns"
   ]
  },
  {
   "cell_type": "code",
   "execution_count": null,
   "id": "3deddde6-8262-4ba0-aa8a-b2793d00d21b",
   "metadata": {},
   "outputs": [],
   "source": [
    "df.head(3)"
   ]
  },
  {
   "cell_type": "code",
   "execution_count": null,
   "id": "d59145da-b5c7-46a4-850d-3bb43fdf94fb",
   "metadata": {},
   "outputs": [],
   "source": [
    "df.tail(3)"
   ]
  },
  {
   "cell_type": "code",
   "execution_count": null,
   "id": "6f2773e3-cbbf-4823-9883-c25b8dc5e64f",
   "metadata": {},
   "outputs": [],
   "source": [
    "df.info()"
   ]
  },
  {
   "cell_type": "markdown",
   "id": "2a74ce39-3fb7-4930-83b7-c08e5783be6a",
   "metadata": {},
   "source": [
    "- não temos variáveis com missing values\n",
    "- existem 25 variáveis que são de tipo int e 9 do tipo object"
   ]
  },
  {
   "cell_type": "markdown",
   "id": "5f7ae7ef-b97b-4d5d-966f-fc61ccc19593",
   "metadata": {},
   "source": [
    "## Statistical exploration"
   ]
  },
  {
   "cell_type": "code",
   "execution_count": null,
   "id": "b7759769-385e-42fc-a4dc-43eb6a9c9476",
   "metadata": {},
   "outputs": [],
   "source": [
    "df.describe().T"
   ]
  },
  {
   "cell_type": "markdown",
   "id": "79cf35e6-3c3e-48d6-a332-ddb5a32e4753",
   "metadata": {},
   "source": [
    "- idade média 37 anos, mínimo 18 anos, 25% dos trabalhadores tem 30 anos; 50% tem 36, 75% tem 43 e a idade máxima é de 60 anos;\n",
    "- o salário diário médio é de 803 euros, o mínimo diário é 102, 25% dos trabalhadores aufere 465 euros por dia, 50% aufere 802 euros, 75% recebe 1157 euros e o máximo diário é de 1499 euros;\n",
    "- a distância média entre casa e trabalho é de 9 km, o valor mínimo é de 1 km, 25% dos trabalhadores vive a 2 km do trabalho, 50% a 7 km, 75% a 14 km e a distância máxima é de 29 km;\n",
    "- a educação está em níveis (de 1 a 5), em que o valor médio é 3, 25% dos trabalhadores tem nível de educação 2, 50% tem nível 3 e 75% nível 4;\n",
    "- a coluna EmplyeeCount não traz informação importante, uma vez que cada empregado é único, logo esta coluna tem o valor constante de 1;\n",
    "- a variável EnvironmentSatisfaction mede a satisfação dos trabalhadores com o ambiente empresarial em níveis, de 1 a 4, o nível médio de satisfação é de 2.7, 25% dos trabalhadores diz ter nível 2 de satisfacção, 50% tem nível 3 e 75% nível 4;\n",
    "- o vencimento médio por hora é de 66 euros, o valor mínimo é 30, 25% dos trabalhadores auferem 48 euros por hora, 50% recebe 66 euros, 75% 84 euros e o valor máximo é de 100 euros/hora;\n",
    "- a variável JobInvolvement mede o envolvimento dos trabalhadores com a empresa em níveis de 1 a 4, o nível médio de envolvimento é de 2.7, 25% dos trabalhadores tem um nível médio de 2, 50% e 75% de 3;\n",
    "- a variável JobLevel mede o nível das funções de cada trabalhador em 5 níveis, o nível médio é de 2, 25% dos trabalhadores tem nível 1, 50% nível 2 e 75% nível 3;\n",
    "- a variável JobSatisfaction mede a satisfação dos trabalhadores com o trabalho em 4 níveis, o nível de satisfação médio é de 2.7, 25% dos trabalhadores tem nível 2, 50% nível 3 e 75% nível 4;\n",
    "- o salário médio por mês, é de 6503 euros, o salário mínimo é de 1009 euros, 25% dos trabalhadores recebe 2911 euros/mês, 50% recebe 4919 euros/mês, 75% recebe 8379 euros/mês e o salário mensal máximo é de 19.999 euros;\n",
    "- o número médio de empresas onde os trabalhadores estiveram anteriormente é 2.7, existem trabalhadores para os quais esta é a primeira experiência profissional, 25% dos trabalhadores estive anteriormente em 1 empresa, 50% esteve em 2, 75% em 4 e o valor máximo é de 9;\n",
    "- em média o salário destes trabalhadores aumentou em 15%, a percentagem mínima de aumento foi de 11%, 25% dos trabalhadores viram os seus salários aumentar em 12%, 50% em 14%, 75% em 18% e a percentagem máxima de aumento salarial foi de 25;\n",
    "- o rating médio/mínimo/percentil 25/50%/percentil 75 de performance é de 3 em 4;\n",
    "- o nível médio de satisfação com os relacionamentos interpessoais é de 2.7, o mínimo é 1, 25% dos trabalhadores tem nível de satisfação de 2, 50% tem nível 3, 75% tem nível 4, que é o nível máximo;\n",
    "- a variável StandardHours é irrelevante pois tem o valor constante de 80h, pelo que será eliminada;\n",
    "- o nível médio de stock options é de 0.8, 50%/75% dos trabalhadores tem nível 1, 25% dos trabalhadores não tem stock options e o nível máximo é de 3;\n",
    "- a média de anos trabalhados é de 11 , 25% dos trabalhadores trabalha há 6 anos, 50%  há 10 anos, 75%  há 15 anos e o valor máximo é de 40 anos e o mínimo de 0;\n",
    "- a média de trainings recebidos no último ano é de 2h, o mínimo é 0h, 25% dos trabalhadores recebeu 2h de trainings, 50% recebeu 3h tal como 75% e o valor máximo é de 6h;\n",
    "- o work life balance é medido em níveis de 1 a 4, em que o nível médio é de 2.7, o mínimo é 1, 25% dos trabalhadores aponta 2, 50%/75% fala em 3, mas há quem dê nível 4;\n",
    "- em média os trabalhadores estão há 7 anos nesta empresa, o mínimo de anos é 0, 25% dos trabalhadores estão na empresa há 3 anos, 50% estão há 5, 75% estão há 9 anos e o valor máximo é de 40;\n",
    "- em média os trabalhadores estão há 4 anos na mesma função, o mínimo é 0, 25% estão na mesma função há 2 anos, 50% há 3, 75% há 7 e no máximo há 18 anos;\n",
    "- em média passaram 2 anos desde a última promoção, há quem o tenha sido há menos de 1 ano, como acontece com 25% dos trabalhadores, 50% foi promovida há 1 ano, 75% há 3 e há quem espere por uma nova promoção há 15 anos;\n",
    "- o tempo médio com o actual manager é de 4 anos, o mínimo é de 0, 25% dos trabalahdores estão com o actual manager há 2 anos, 50% está há 3, 75% há 7 e há quem esteja a trabalhar para o actual manager há 17 anos."
   ]
  },
  {
   "cell_type": "markdown",
   "id": "745af6ad-cf04-437b-ad13-60928d136efe",
   "metadata": {},
   "source": [
    "**Questões:**\n",
    "\n",
    "- Devemos confiar nos níveis das variáveis ordinais (nível de satisfação, nível de educação...)?;\n",
    "- Quais as unidades de medida da distância ao trabalho e dos salary rates e income?\n",
    "- O que significam os salary rates?\n",
    "- a % de aumento salarial é calculada face ao valor mensal ou corresponde ao aumento total pelo tempo de trabalho na empresa?\n",
    "- o que representa ao certa a variável StockOptionLevel?"
   ]
  },
  {
   "cell_type": "code",
   "execution_count": null,
   "id": "849ea9d9-e2ed-42a8-afd2-196d2b868fe1",
   "metadata": {},
   "outputs": [],
   "source": [
    "df.describe(include=['O'])"
   ]
  },
  {
   "cell_type": "markdown",
   "id": "15ec8612-0d98-4ade-b5ac-b98a7c09aeba",
   "metadata": {},
   "source": [
    "- existem 2 valores possíveis para indicar se o empregado está sair da empresa ou não, 84% não está de saída, pelo que não é o valor mais comum, esta variável vai ter de ser transformada em int com valores de 0 para 'No' e 1 para 'Yes'\n",
    "- existem 3 níveis de frequência relativamente a viagens em negócios, em que o mais comum é 'Travel_Rarely', partilhado por 71% dos trabalhadores, esta variável tem de ser transformada em int com valores de 1 para 'No_Travel', 2 para 'Travel_Frequently' e 3 para 'Travel_Rarely'\n",
    "- existem 3 departamentos diferentes, em que o mais comum é 'Research & Development', no qual constam 65% dos trabalhadores, esta variável tem de ser transformada em int, de acordo com o seguinte padrão: 1 = Human Resources, 2 = Research & Development e 3 = Sales\n",
    "- existem 6 campos de estudo diferentes, em que o mais comum é 'Life Sciences', com 41% dos trabalhadores, esta variável tem de ser transformada em int com base no seguinte padrão: 1 = Human Resources, 2 = Life Sciences, 3 = Marketing, 4 = Medical Sciences, 5 = Other e 6 = Technical\n",
    "- 60% dos trabalhadores são homens, a variável 'Gender' pode ser alterada para int com recurso a dummy variables ou através do seguinte código: 1 = Female e 2 = Male\n",
    "- existem 9 funções diferentes, em que a mais comum é 'Sales Executive' com 22% dos trabalhadores, esta variável tem de ser transformada em int de acordo com o seguinte padrão: 1 = Human Resources Rep, 2 = Human Resources, 3 = Lab Technician, 4 = Manager, 5 = Managing director, 6 = Research director, 7 = Research Scientist, 8 = Sales executive e 9 = Sales Representative\n",
    "- existem 3 tipos de estados matrimoniais, em que 'Married' é o mais frequente, com 46% dos trabalhadores, esta variável tem de ser transformada em int com base no seguinte padrão: 1 = Divorced, 2 = Married e 3 = Single\n",
    "- a variável 'Over18' é uma constante, uma vez que não existem trabalhadores com menos de 18 anos, pelo que deve ser removida\n",
    "- 72% dos trabalhadores não faz horas extra, a variável 'OverTime' pode ser transformada em dummy variable ou usando o seguinte código: 1 = No e 2 = Yes"
   ]
  },
  {
   "cell_type": "markdown",
   "id": "e6ab140f-c9aa-46d6-872c-3bb20be5a0b0",
   "metadata": {},
   "source": [
    "## Variáveis numéricas"
   ]
  },
  {
   "cell_type": "code",
   "execution_count": null,
   "id": "359e6384-2011-4594-8ed7-d07f56a1ce7e",
   "metadata": {},
   "outputs": [],
   "source": [
    "df.skew()"
   ]
  },
  {
   "cell_type": "markdown",
   "id": "df39859d-8278-4aad-9298-1014ea80c8a4",
   "metadata": {},
   "source": [
    "Concerning the variables skewness, we can conclude the following:\n",
    "- `Moderate skewness (between |0.5| and |1.0|)`: DistanceFromHome, JobInvolvement, PercentSalaryHike, StockOptionLevel, TrainingTimesLastYear, WorkLifeBalance, YearsInCurrentRole, YearsWithCurrManager\n",
    "- `High skewness (higher than |1.0|)`: JobLevel, MonthlyIncome, NumCompaniesWorked, PerformanceRating, TotalWorkingYears, YearsAtCompany, YearsSinceLastPromotion"
   ]
  },
  {
   "cell_type": "code",
   "execution_count": null,
   "id": "71172b7e-885a-45e1-ac1a-d4b8894d1896",
   "metadata": {},
   "outputs": [],
   "source": [
    "df[['DistanceFromHome', 'JobInvolvement', 'PercentSalaryHike', 'StockOptionLevel', 'TrainingTimesLastYear', 'WorkLifeBalance', 'YearsInCurrentRole', 'YearsWithCurrManager', 'JobLevel', 'MonthlyIncome', 'NumCompaniesWorked', 'PerformanceRating', 'TotalWorkingYears', 'YearsAtCompany', 'YearsSinceLastPromotion']].kurt()"
   ]
  },
  {
   "cell_type": "markdown",
   "id": "b49445ae-3051-41e9-86ba-82dd4a199f3e",
   "metadata": {},
   "source": [
    "- uma distribuição normal tem kurtosis = 3, logo valores > 3, podem representar a existência de outliers\n",
    "- temos 2 variáveis nesta situação: 'YearsAtCompany' e 'YearsSinceLastPromotion'"
   ]
  },
  {
   "cell_type": "markdown",
   "id": "a59ccc89-b4c5-47b2-82cc-32582dbb7cc7",
   "metadata": {},
   "source": [
    "## Variáveis categóricas"
   ]
  },
  {
   "cell_type": "code",
   "execution_count": null,
   "id": "ab649f93-cbf5-4872-bd69-fbf06c13e66b",
   "metadata": {},
   "outputs": [],
   "source": [
    "df['Attrition'].value_counts()"
   ]
  },
  {
   "cell_type": "code",
   "execution_count": null,
   "id": "bf379653-98e4-4087-80e9-6f32b8da5cb1",
   "metadata": {},
   "outputs": [],
   "source": [
    "df['BusinessTravel'].value_counts()"
   ]
  },
  {
   "cell_type": "code",
   "execution_count": null,
   "id": "eb557bfd-d09a-4da3-902c-a01d85edf1e0",
   "metadata": {},
   "outputs": [],
   "source": [
    "df['Department'].value_counts()"
   ]
  },
  {
   "cell_type": "code",
   "execution_count": null,
   "id": "2ee72fec-ee7f-4aed-955d-1a662737146d",
   "metadata": {},
   "outputs": [],
   "source": [
    "df['EducationField'].value_counts()"
   ]
  },
  {
   "cell_type": "code",
   "execution_count": null,
   "id": "378f714e-e567-4826-947a-3c80d1e037ce",
   "metadata": {},
   "outputs": [],
   "source": [
    "df['Gender'].value_counts()"
   ]
  },
  {
   "cell_type": "code",
   "execution_count": null,
   "id": "6a8a1464-d49b-4cd9-b42f-c057aec1ee47",
   "metadata": {},
   "outputs": [],
   "source": [
    "df['JobRole'].value_counts()"
   ]
  },
  {
   "cell_type": "code",
   "execution_count": null,
   "id": "c005425d-7222-4f3a-a20e-17746e5a4c54",
   "metadata": {},
   "outputs": [],
   "source": [
    "df['MaritalStatus'].value_counts()"
   ]
  },
  {
   "cell_type": "code",
   "execution_count": null,
   "id": "bcb99973-4b52-4c30-9955-03c954dbd02d",
   "metadata": {},
   "outputs": [],
   "source": [
    "df['Over18'].value_counts()"
   ]
  },
  {
   "cell_type": "code",
   "execution_count": null,
   "id": "14aa4444-4f88-4f91-9875-eb2987bc3a35",
   "metadata": {},
   "outputs": [],
   "source": [
    "df['OverTime'].value_counts()"
   ]
  },
  {
   "cell_type": "code",
   "execution_count": null,
   "id": "59180417-7f97-4f00-9176-425c4fbf49cc",
   "metadata": {},
   "outputs": [],
   "source": [
    "df.columns"
   ]
  },
  {
   "cell_type": "markdown",
   "id": "9b2d368c-ef47-4a01-bddb-2e40a05d66da",
   "metadata": {},
   "source": [
    "## Visualizações"
   ]
  },
  {
   "cell_type": "code",
   "execution_count": null,
   "id": "12977749-ce62-431f-9742-21bcd83be55b",
   "metadata": {},
   "outputs": [],
   "source": [
    "sns.histplot(df['MonthlyIncome'], color=\"g\", bins = 10)"
   ]
  },
  {
   "cell_type": "code",
   "execution_count": null,
   "id": "323905eb-9711-400d-8ff3-ebbab4381f04",
   "metadata": {},
   "outputs": [],
   "source": [
    "sns.scatterplot(x = 'TotalWorkingYears', y= 'MonthlyIncome', data = df)"
   ]
  },
  {
   "cell_type": "code",
   "execution_count": null,
   "id": "f80c672e-0e32-4003-9a42-291bcd616184",
   "metadata": {},
   "outputs": [],
   "source": [
    "figure = plt.figure(figsize=(12,8))\n",
    "ax = plt.subplot(111) #  \"111\" means \"1x1 grid, first subplot\" and \"234\" means \"2x3 grid, 4th subplot\".\n",
    "sns.scatterplot(x = 'TotalWorkingYears', y = 'MonthlyIncome', data = df, hue = 'Attrition')\n",
    "\n",
    "# define the title using matplotlib.pyplot.title\n",
    "plt.title('Income vs WorkingYears vs Attrition', fontsize= 16, color = 'blue')\n",
    "# define the legend using matplotlib.pyplot.legend\n",
    "plt.legend(loc = 'upper left', title = 'Attrition')\n",
    "# define the label for x axis using matplotlib.pyplot.xlabel\n",
    "plt.xlabel(\"WorkingYears\")\n",
    "ax.spines['right'].set_visible(False)\n",
    "ax.spines['top'].set_visible(False)"
   ]
  },
  {
   "cell_type": "code",
   "execution_count": null,
   "id": "88b429e6-e5bb-4c76-83fa-c2735f95da37",
   "metadata": {},
   "outputs": [],
   "source": [
    "figure = plt.figure(figsize=(12,8))\n",
    "ax = plt.subplot(111) #  \"111\" means \"1x1 grid, first subplot\" and \"234\" means \"2x3 grid, 4th subplot\".\n",
    "sns.scatterplot(x = 'TotalWorkingYears', y = 'MonthlyIncome', data = df, hue = 'JobLevel')\n",
    "\n",
    "# define the title using matplotlib.pyplot.title\n",
    "plt.title('Income vs WorkingYears vs JobLevel', fontsize= 16, color = 'blue')\n",
    "# define the legend using matplotlib.pyplot.legend\n",
    "plt.legend(loc = 'upper left', title = 'JobLevel')\n",
    "# define the label for x axis using matplotlib.pyplot.xlabel\n",
    "plt.xlabel(\"WorkingYears\")\n",
    "ax.spines['right'].set_visible(False)\n",
    "ax.spines['top'].set_visible(False)"
   ]
  },
  {
   "cell_type": "code",
   "execution_count": null,
   "id": "65925b58-e060-4cd5-9ca2-5a8e6e31279a",
   "metadata": {},
   "outputs": [],
   "source": [
    "sns.scatterplot(x = 'JobSatisfaction', y= 'MonthlyIncome', data = df)"
   ]
  },
  {
   "cell_type": "code",
   "execution_count": null,
   "id": "b992b777-3515-4906-bdc8-8bbed799e6e5",
   "metadata": {},
   "outputs": [],
   "source": []
  }
 ],
 "metadata": {
  "kernelspec": {
   "display_name": "Python 3 (ipykernel)",
   "language": "python",
   "name": "python3"
  },
  "language_info": {
   "codemirror_mode": {
    "name": "ipython",
    "version": 3
   },
   "file_extension": ".py",
   "mimetype": "text/x-python",
   "name": "python",
   "nbconvert_exporter": "python",
   "pygments_lexer": "ipython3",
   "version": "3.9.7"
  }
 },
 "nbformat": 4,
 "nbformat_minor": 5
}
